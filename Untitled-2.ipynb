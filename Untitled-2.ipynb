{
 "cells": [
  {
   "cell_type": "markdown",
   "metadata": {},
   "source": [
    "#   print in python"
   ]
  },
  {
   "cell_type": "code",
   "execution_count": 1,
   "metadata": {},
   "outputs": [
    {
     "name": "stdout",
     "output_type": "stream",
     "text": [
      "yousef\n"
     ]
    }
   ],
   "source": [
    "print(\"yousef\")"
   ]
  },
  {
   "cell_type": "markdown",
   "metadata": {
    "notebookRunGroups": {
     "groupValue": "2"
    }
   },
   "source": [
    "# How to store variables"
   ]
  },
  {
   "cell_type": "code",
   "execution_count": 2,
   "metadata": {
    "notebookRunGroups": {
     "groupValue": "2"
    }
   },
   "outputs": [
    {
     "name": "stdout",
     "output_type": "stream",
     "text": [
      "Muhammed Essa\n",
      "38\n"
     ]
    }
   ],
   "source": [
    "age = 38\n",
    "name = \"Muhammed Essa\"\n",
    "print (name)\n",
    "print (age)"
   ]
  },
  {
   "cell_type": "markdown",
   "metadata": {},
   "source": [
    "# variables can be changed"
   ]
  },
  {
   "cell_type": "code",
   "execution_count": 3,
   "metadata": {},
   "outputs": [
    {
     "name": "stdout",
     "output_type": "stream",
     "text": [
      "10\n",
      "55.2\n"
     ]
    }
   ],
   "source": [
    "num = 10 \n",
    "dgree = 55.2\n",
    "print(num)\n",
    "print(dgree)"
   ]
  },
  {
   "cell_type": "markdown",
   "metadata": {},
   "source": [
    "# to ignore ' if i want to used it \n"
   ]
  },
  {
   "cell_type": "code",
   "execution_count": 4,
   "metadata": {},
   "outputs": [
    {
     "name": "stdout",
     "output_type": "stream",
     "text": [
      "yousef's have book\n"
     ]
    }
   ],
   "source": [
    "myname = 'yousef\\'s have book'\n",
    "print(myname)"
   ]
  },
  {
   "cell_type": "markdown",
   "metadata": {},
   "source": [
    " # to identify the large text "
   ]
  },
  {
   "cell_type": "code",
   "execution_count": 5,
   "metadata": {},
   "outputs": [
    {
     "name": "stdout",
     "output_type": "stream",
     "text": [
      "trgjgfh\n",
      "gd;kjh\n",
      "fghj;f\n",
      "gfjh\n",
      "hgkl\n",
      "fhghkf;gjh\n",
      "fghjklfgh\n",
      "gfj;\n"
     ]
    }
   ],
   "source": [
    "some_text = \"\"\"trgjgfh\n",
    "gd;kjh\n",
    "fghj;f\n",
    "gfjh\"\"\"\n",
    "sometext='''hgkl\n",
    "fhghkf;gjh\n",
    "fghjklfgh\n",
    "gfj;''' \n",
    "print(some_text)\n",
    "print(sometext)"
   ]
  },
  {
   "cell_type": "markdown",
   "metadata": {},
   "source": [
    "# how to print two different variables with different format "
   ]
  },
  {
   "cell_type": "code",
   "execution_count": 6,
   "metadata": {},
   "outputs": [
    {
     "name": "stdout",
     "output_type": "stream",
     "text": [
      "Muhammed Essa 38\n"
     ]
    }
   ],
   "source": [
    "print(f\"{name} {age}\")"
   ]
  },
  {
   "cell_type": "markdown",
   "metadata": {},
   "source": [
    "# to put a variables in the text "
   ]
  },
  {
   "cell_type": "code",
   "execution_count": 7,
   "metadata": {},
   "outputs": [
    {
     "name": "stdout",
     "output_type": "stream",
     "text": [
      "yousef mosed 3000 dollar \n"
     ]
    }
   ],
   "source": [
    "salary = 3000\n",
    "employeeinfo = \"yousef mosed {} dollar \"\n",
    "print(employeeinfo.format(salary)) "
   ]
  },
  {
   "cell_type": "markdown",
   "metadata": {},
   "source": [
    "# if statement"
   ]
  },
  {
   "cell_type": "markdown",
   "metadata": {},
   "source": [
    "#### how to make if statement"
   ]
  },
  {
   "cell_type": "code",
   "execution_count": 8,
   "metadata": {},
   "outputs": [],
   "source": [
    "led_off = False\n",
    "lde_on = True\n",
    "if led_off :\n",
    "    print(\"LED is off\")"
   ]
  },
  {
   "cell_type": "markdown",
   "metadata": {},
   "source": [
    "#### to compare to virables with if statement"
   ]
  },
  {
   "cell_type": "code",
   "execution_count": 9,
   "metadata": {},
   "outputs": [],
   "source": [
    "num1 = 10\n",
    "num2 = 20\n",
    "if num1>num2:\n",
    "     print(\"num1 is greater than num2\")\n",
    "     "
   ]
  },
  {
   "cell_type": "markdown",
   "metadata": {},
   "source": [
    "#### used else statement"
   ]
  },
  {
   "cell_type": "code",
   "execution_count": 10,
   "metadata": {},
   "outputs": [
    {
     "name": "stdout",
     "output_type": "stream",
     "text": [
      "num1 is not equal to num2\n"
     ]
    }
   ],
   "source": [
    "if num1 == num2:\n",
    "     print(\"num1 is equal to num2\")\n",
    "else:\n",
    "    print(\"num1 is not equal to num2\")"
   ]
  },
  {
   "cell_type": "markdown",
   "metadata": {},
   "source": [
    "#### to used else if statement"
   ]
  },
  {
   "cell_type": "code",
   "execution_count": 11,
   "metadata": {},
   "outputs": [
    {
     "name": "stdout",
     "output_type": "stream",
     "text": [
      "num1 is not equal to num2\n"
     ]
    }
   ],
   "source": [
    "if num1 == num2:\n",
    "     print(\"num1 is equal to num2\")\n",
    "else:\n",
    "    print(\"num1 is not equal to num2\")"
   ]
  },
  {
   "cell_type": "markdown",
   "metadata": {},
   "source": [
    "# List"
   ]
  },
  {
   "cell_type": "code",
   "execution_count": 12,
   "metadata": {},
   "outputs": [
    {
     "name": "stdout",
     "output_type": "stream",
     "text": [
      "['yousef', 'mosed', 'fawze', 'yousef']\n",
      "4\n",
      "yousef\n",
      "['esraa', 'mo', 'yousef', 'mosed', 'fawze', 'yousef']\n",
      "['esraa', 'mo', 'yousef', 'mosed', 'fawze']\n"
     ]
    }
   ],
   "source": [
    "names = [\"yousef\",\"mosed\",\"fawze\",\"yousef\"]    #list\n",
    "print(names)\n",
    "print (len(names))     #how many items in the list\n",
    "ages =[1,2,3,4,5,6,7]\n",
    "check1=[True,False,True,False,False,False]\n",
    "dataset = [\"yousef\",\"mosed\",1,True]\n",
    "print(names[0])   # to print the first item\n",
    "names.insert(0,\"esraa\") # to insert the items \n",
    "names.insert(1,\"mo\")\n",
    "print(names) \n",
    "del(names[5])# to delete items\n",
    "print(names)\n"
   ]
  }
 ],
 "metadata": {
  "kernelspec": {
   "display_name": "Python 3",
   "language": "python",
   "name": "python3"
  },
  "language_info": {
   "codemirror_mode": {
    "name": "ipython",
    "version": 3
   },
   "file_extension": ".py",
   "mimetype": "text/x-python",
   "name": "python",
   "nbconvert_exporter": "python",
   "pygments_lexer": "ipython3",
   "version": "3.12.7"
  }
 },
 "nbformat": 4,
 "nbformat_minor": 2
}
